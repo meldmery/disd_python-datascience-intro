{
 "cells": [
  {
   "cell_type": "markdown",
   "metadata": {},
   "source": [
    "<div>\n",
    "    <img style=\"float:right; width:210px\" src=\"images/snext-logo.png\"/>\n",
    "    <div style=\"float:left;\"><h1>Introduction to Python for Data Science</h1></div>\n",
    "</div>"
   ]
  },
  {
   "cell_type": "markdown",
   "metadata": {},
   "source": [
    "---\n",
    "# Notebook 2: Introduction to Python\n",
    "This is a step-by-step introduction to some programming basics in python, covering the tools and concepts you need to do data exploration and analysis with python. \n",
    "\n",
    "It is not a complete programming tutorial. The official language reference can be found [here](https://docs.python.org/3/reference/index.html).\n",
    "\n",
    "## Contents\n",
    "\n",
    "[1. Hello world!](#chapter1)  \n",
    "[2. Comments and Variables](#chapter2)  \n",
    "[3. Basic operators](#chapter3)  \n",
    "[4. Control flow](#chapter4)  \n",
    "[5. Data structures](#chapter5)  \n",
    "[6. Working with packages](#chapter6)  \n",
    "[7. Outlook](#chapter7)\n",
    "\n",
    "---"
   ]
  },
  {
   "cell_type": "markdown",
   "metadata": {},
   "source": [
    "# 1. Hello world!<a id=\"chapter1\"/>\n",
    "Besides markup cells, notebooks can contain code cells. With a notebook a python interpreter runs in the background (the \"kernel\"). Every time you execute (\"run\") a cell, the code is passed to this interpreter to be executed. The result (error or output of your code) is then displayed below the cell. \n",
    "\n",
    "## <span style=\"color:#FF5D02;\">Assignment: Hello World!</span>\n",
    "Enter the python code ```print(\"Hello world!\")``` in the following cell of type \"code\" and hit shift-enter to execute the cell.\n"
   ]
  },
  {
   "cell_type": "print(\"Hello world!\")",
   "execution_count": null,
   "metadata": {},
   "outputs": [],
   "source": []
  },
  {
   "cell_type": "markdown",
   "metadata": {},
   "source": [
    "By right-clicking a cell and selecting \"Clear output\" you can remove that output again. By right-clicking a cell and selecting \"Restart Kernel\" this background python session is restarted. "
   ]
  },
  {
   "cell_type": "markdown",
   "metadata": {},
   "source": [
    "## 2. Comments and Variables <a id=\"chapter2\"/>\n",
    "\n",
    "We're now going to explore some basic functionality. While reading along, please execute the code cells and always feel free to experiment :-)\n",
    "\n",
    "### 2.1. Full line and inline comments"
   ]
  },
  {
   "cell_type": "code",
   "execution_count": null,
   "metadata": {},
   "outputs": [],
   "source": [
    "# Use a hash sign at the beginning of a line for a full line comment\n",
    "\n",
    "print (\"Comments help to better understand your code\")   # Example for an inline comment"
   ]
  },
  {
   "cell_type": "markdown",
   "metadata": {},
   "source": [
    "### 2.2 Working with simple variables\n",
    "Variables store data in memory - in the simplest case **text** (called a \"string\") or **numbers**. \n",
    "\n",
    "> When working with texts, always put them in quotes so python knows that this is not a command or reference to another variable.\n",
    "\n",
    "This is how you define variables and use their content:"
   ]
  },
  {
   "cell_type": "code",
   "execution_count": null,
   "metadata": {},
   "outputs": [],
   "source": [
    "x = 5     # just assign a value\n",
    "y = 10\n",
    "\n",
    "title = \"Introduction to python\"   # Important: don't forget the quotes around text data (\"strings\")\n",
    "\n",
    "# let's use these variables\n",
    "\n",
    "print (x)\n",
    "print (y)\n",
    "print (title)\n",
    "\n",
    "print (\"Values: \", x, y)   # print can output multiple variables at once, just separate them with commas\n",
    "print (\"x = \", x)"
   ]
  },
  {
   "cell_type": "markdown",
   "metadata": {},
   "source": [
    "---\n",
    "## <span style=\"color:#FF5D02;\">Assignment: Hello world with a variable</span>\n",
    "\n",
    "Redesign your \"Hello World\" program from above so that the text is first stored in a variable. You can pick any name for your variable.  \n",
    "Next use the print function to output the contents of your newly created variable."
   ]
  },
  {
   "cell_type": "code",
   "execution_count": null,
   "metadata": {},
   "outputs": [],
   "source": []
  },
  {
   "cell_type": "markdown",
   "metadata": {},
   "source": [
    "**Hints**  \n",
    "(please try it yourself before looking)"
   ]
  },
  {
   "cell_type": "code",
   "execution_count": null,
   "metadata": {
    "jupyter": {
     "source_hidden": true
    },
    "tags": []
   },
   "outputs": [],
   "source": [
    "# Solution\n",
    "text = \"Hello world\"\n",
    "print(text)"
   ]
  },
  {
   "cell_type": "markdown",
   "metadata": {},
   "source": [
    "---"
   ]
  },
  {
   "cell_type": "markdown",
   "metadata": {},
   "source": [
    "To get the value of a variable, we don't have to write a print statement every time. As a shortcut, you can simply put the value in the last line of a cell:"
   ]
  },
  {
   "cell_type": "code",
   "execution_count": null,
   "metadata": {},
   "outputs": [],
   "source": [
    "x = 2\n",
    "x"
   ]
  },
  {
   "cell_type": "markdown",
   "metadata": {},
   "source": [
    "## 3. Basic Operators<a id=\"chapter3\"/>\n",
    "\n",
    "These are the most common operators to work with data and variables in Python:\n",
    "- **Arithmetic operators**: perform basic arithmetic operations with +, -, \\*, /.\n",
    "- **String operators**: join two strings with +.\n",
    "- **Comparison operators**: compare two variables with >, <, == (is equal?), != (is not equal?)."
   ]
  },
  {
   "cell_type": "code",
   "execution_count": null,
   "metadata": {},
   "outputs": [],
   "source": [
    "x = 2\n",
    "y = 3\n",
    "\n",
    "mean = (x+y) / 2\n",
    "\n",
    "print (mean)\n",
    "\n",
    "# Assignment: Add a variable z and include it in the mean value calculation!"
   ]
  },
  {
   "cell_type": "code",
   "execution_count": null,
   "metadata": {},
   "outputs": [],
   "source": [
    "# Example strings\n",
    "\n",
    "s1 = \"Steinbeis\"\n",
    "s2 = \"School for Management\"\n",
    "s3 = \"and Innovation\"\n",
    "\n",
    "print(s1 + \" \" + s2)\n",
    "\n",
    "# Assignment: Alter the print statement so that the full name is printed!"
   ]
  },
  {
   "cell_type": "code",
   "execution_count": null,
   "metadata": {},
   "outputs": [],
   "source": [
    "# Comparing operators\n",
    "\n",
    "a = 5.2\n",
    "b = 10.8\n",
    "\n",
    "print (\"a < b? \", a < b)\n",
    "print (\"a == b? \", a == b)\n",
    "print (\"a != b? \", a != b)"
   ]
  },
  {
   "cell_type": "markdown",
   "metadata": {},
   "source": [
    "## 4. Control flow <a id=\"chapter4\"/>\n",
    "### 4.1. *IF* statements, indentation and bool operators\n",
    "You can use IF statements to condition the execution of one or more commands. \n",
    "> Python interprets the indentation of the commands, so that the indent statement block belongs to the IF statement.\n",
    "\n",
    "With the ```else``` statement you can specify commands to be executed in case the condition of the ```if``` statement does not apply."
   ]
  },
  {
   "cell_type": "code",
   "execution_count": null,
   "metadata": {},
   "outputs": [],
   "source": [
    "x = 5\n",
    "y = 10\n",
    "\n",
    "print(x < y)"
   ]
  },
  {
   "cell_type": "code",
   "execution_count": null,
   "metadata": {},
   "outputs": [],
   "source": [
    "if (x < y):\n",
    "    print (\"X is less than Y\")\n",
    "else:  # if the condition statment is not true\n",
    "    print (\"Y is larger than X\")"
   ]
  },
  {
   "cell_type": "code",
   "execution_count": null,
   "metadata": {},
   "outputs": [],
   "source": [
    "x = 5  # if you like, change this value to validate the behavior of the following if statement\n",
    "\n",
    "if (x == 5):\n",
    "    print (\"x equals 5\")\n",
    "    \n",
    "print(\"Please note: this is not indented, thus not part of the if statment. This is why this text is always printed, no matter what value x holds.\")"
   ]
  },
  {
   "cell_type": "markdown",
   "metadata": {},
   "source": [
    "You can also link several conditions with the operators `and` and `or`:"
   ]
  },
  {
   "cell_type": "code",
   "execution_count": null,
   "metadata": {},
   "outputs": [],
   "source": [
    "if (x < 10) and (y < 100):\n",
    "    print (\"The numbers are not that big\")"
   ]
  },
  {
   "cell_type": "code",
   "execution_count": null,
   "metadata": {},
   "outputs": [],
   "source": [
    "if (x < 10) or (y < 10):\n",
    "    print (\"One of the numbers is less than ten\")"
   ]
  },
  {
   "cell_type": "markdown",
   "metadata": {},
   "source": [
    "## 4.2. Loops\n",
    "### FOR\n",
    "A `for` loop allows you to execute one or more commands for each element of an enumeration. Experiment with the following examples and assignments until you have an intuitive understanding of what is happening in a FOR loop.\n",
    "\n",
    "Example:"
   ]
  },
  {
   "cell_type": "code",
   "execution_count": null,
   "metadata": {},
   "outputs": [],
   "source": [
    "for i in (1,2,3,4,5): #  For each of the values 1-5 go through the following code. The current number will be stored in the variable \"i\" during that pass.\n",
    "    print (\"For loop start...\")\n",
    "    print (\"The value of i in this round is: \", i)\n",
    "    print (\"For loop end!\")    \n",
    "    print (\"\") # just an empty line"
   ]
  },
  {
   "cell_type": "markdown",
   "metadata": {},
   "source": [
    "This will be helpful e.g. when \"walking\" though a dataset, checking things or making changes to \"each customer\", \"each website vistor\", \"each machine operations cycle\"... "
   ]
  },
  {
   "cell_type": "markdown",
   "metadata": {},
   "source": [
    "### WHILE\n",
    "The `while` loop executes one or more commands until the While condition is no longer met.  \n",
    "Example:"
   ]
  },
  {
   "cell_type": "code",
   "execution_count": null,
   "metadata": {},
   "outputs": [],
   "source": [
    "x = 0\n",
    "while x < 10:\n",
    "    print (\"Let's get started with another round in the while loop...\")\n",
    "    print (\"In this round, x has the value of \", x)\n",
    "    x = x + 1\n",
    "    print (\"End of the round\")\n",
    "    print (\"\")"
   ]
  },
  {
   "cell_type": "markdown",
   "metadata": {},
   "source": [
    "---\n",
    "## <span style=\"color:#FF5D02;\">Assignment: Loops and conditions</span>\n",
    "Create a program that ...\n",
    "- counts from 0 to 10\n",
    "- outputs a line of text for each number, stating the number and whether the value is less than five\n",
    "- for the line of number \"5\", skip showing the usual text, just the message \"--- Phew, half time! ---\"\n",
    "\n",
    "I know that's a lot - but try to solve it step-by-step, iteratively. Create a program that does the counting. Next, perhaps add the \"half time\" output, if you have an idea how that could work.  \n",
    "If you need more help, expand the cells below to get one hint at a time... but please try first :-)"
   ]
  },
  {
   "cell_type": "code",
   "execution_count": null,
   "metadata": {},
   "outputs": [],
   "source": []
  },
  {
   "cell_type": "markdown",
   "metadata": {},
   "source": [
    "**Hints**"
   ]
  },
  {
   "cell_type": "markdown",
   "metadata": {
    "jupyter": {
     "source_hidden": true
    },
    "tags": []
   },
   "source": [
    "This output would be a valid solution:\n",
    "```\n",
    "0 (less than 5)\n",
    "1 (less than 5)\n",
    "2 (less than 5)\n",
    "3 (less than 5) \n",
    "4 (less than 5)\n",
    "--- Phew half time! ---\n",
    "6\n",
    "7\n",
    "8\n",
    "9\n",
    "10\n",
    "```"
   ]
  },
  {
   "cell_type": "markdown",
   "metadata": {
    "jupyter": {
     "source_hidden": true
    },
    "tags": []
   },
   "source": [
    "You need an iteration structure (for or while) and inside some IFs to determine what should happen each \"round\". Try to copy paste some code from above."
   ]
  },
  {
   "cell_type": "markdown",
   "metadata": {
    "jupyter": {
     "source_hidden": true
    },
    "tags": []
   },
   "source": [
    "Instead of always printing the current number with `print(x)`, start with an `if (x<5): ...`."
   ]
  },
  {
   "cell_type": "markdown",
   "metadata": {
    "jupyter": {
     "source_hidden": true
    },
    "tags": []
   },
   "source": [
    "Do the same for the other cases... `if (x == 5): ...` and `if (x>5): ...`"
   ]
  },
  {
   "cell_type": "code",
   "execution_count": null,
   "metadata": {
    "jupyter": {
     "source_hidden": true
    },
    "tags": []
   },
   "outputs": [],
   "source": [
    "# One possible solution\n",
    "\n",
    "for i in range(0,11):\n",
    "    if (i < 5):\n",
    "        print(i, \"(less than 5)\")\n",
    "\n",
    "    if (i == 5):\n",
    "        print(i, \"--- Phew, half time! ---\")\n",
    "        \n",
    "    if (i > 5):\n",
    "        print(i)"
   ]
  },
  {
   "cell_type": "markdown",
   "metadata": {},
   "source": [
    "---"
   ]
  },
  {
   "cell_type": "markdown",
   "metadata": {},
   "source": [
    "# 5. Data structures<a id=\"chapter5\"/>\n",
    "To practically work with data, we need to store more than a simple value or string in a variable. This is where data structures come into play. We'll look use lists and dictionaries, for the full set of available structures please check the [documentation](https://docs.python.org/3/tutorial/datastructures.html#).\n",
    "\n",
    "## 5.1. Lists\n",
    "Lists are data structures that can contain multiple values and enumerate them automatically. Each value can be retrieved via their index number.\n",
    "\n",
    "> Important: The index of the first element of a list is 0."
   ]
  },
  {
   "cell_type": "code",
   "execution_count": null,
   "metadata": {},
   "outputs": [],
   "source": [
    "x = [\"Apples\", \"Oranges\", \"Bananas\"]\n",
    "print (x)"
   ]
  },
  {
   "cell_type": "code",
   "execution_count": null,
   "metadata": {},
   "outputs": [],
   "source": [
    "print (x[0])\n",
    "print (x[1])"
   ]
  },
  {
   "cell_type": "markdown",
   "metadata": {},
   "source": [
    "Indexing also works \"backwards\" - with negative index values. So the last element has the index -1.  \n",
    "Before executing the next cell, think about what it should output!"
   ]
  },
  {
   "cell_type": "code",
   "execution_count": null,
   "metadata": {},
   "outputs": [],
   "source": [
    "x[-1]"
   ]
  },
  {
   "cell_type": "markdown",
   "metadata": {},
   "source": [
    "`.append()` is used to add further values to a list."
   ]
  },
  {
   "cell_type": "code",
   "execution_count": null,
   "metadata": {},
   "outputs": [],
   "source": [
    "x.append(\"Pears\")\n",
    "print(x)"
   ]
  },
  {
   "cell_type": "markdown",
   "metadata": {},
   "source": [
    "Lists can also contain lists in turn - this way we can store tabular data. \n",
    "\n",
    "An example:"
   ]
  },
  {
   "cell_type": "code",
   "execution_count": null,
   "metadata": {},
   "outputs": [],
   "source": [
    "# Table: Surname, Firstname, Sex, Age, Height\n",
    "person1 = [\"Smith\"   , \"Thomas\"   , \"m\" , 34, 1.92]\n",
    "person2 = [\"Mueller\" , \"Samantha\" , \"f\" , 32, 1.72]\n",
    "\n",
    "p = [person1, person2]\n",
    "\n",
    "p"
   ]
  },
  {
   "cell_type": "markdown",
   "metadata": {},
   "source": [
    "To understand how to access individual data fields in nested lists, you need to take a closer look at Python's index system:"
   ]
  },
  {
   "cell_type": "code",
   "execution_count": null,
   "metadata": {},
   "outputs": [],
   "source": [
    "p[0]    # this returns the first element of list p - no surprise here\n",
    "        # but this first element is no simple value, it is - again - a list"
   ]
  },
  {
   "cell_type": "markdown",
   "metadata": {},
   "source": [
    "If I specify two index values, I can directly access all individual values:"
   ]
  },
  {
   "cell_type": "code",
   "execution_count": null,
   "metadata": {},
   "outputs": [],
   "source": [
    "print(\"First attribute of the first person: \", p[0][0] )\n",
    "print(\"Second attribute of the first person: \", p[0][1] )\n",
    "print(\"Third attribute of the second person: \", p[1][2] )\n",
    "# ... :-)"
   ]
  },
  {
   "cell_type": "markdown",
   "metadata": {},
   "source": [
    "## 5.2. Dictionaries"
   ]
  },
  {
   "cell_type": "markdown",
   "metadata": {},
   "source": [
    "An unpleasant thing about lists is that there are no \"column headers\", in other words, the data fields have no names.\n",
    "\n",
    "The data structure \"Dictionary\" can be used for this purpose.  Our people example looks like this as a dictionary:"
   ]
  },
  {
   "cell_type": "code",
   "execution_count": null,
   "metadata": {},
   "outputs": [],
   "source": [
    "person1 = {\n",
    "    \"lastname\":   \"Smith\", \n",
    "    \"firstname\":  \"Thomas\",\n",
    "    \"gender\":     \"m\",\n",
    "    \"age\":        34,\n",
    "    \"height\":     1.92\n",
    "}\n",
    "\n",
    "person2 = {\n",
    "    \"lastname\":   \"Mueller\", \n",
    "    \"firstname\":  \"Samantha\",\n",
    "    \"gender\":     \"f\",\n",
    "    \"age\":        32,\n",
    "    \"height\":     1.72\n",
    "}\n",
    "\n",
    "# Same as above, we can put these two dictionaries in a list:\n",
    "\n",
    "p = [person1, person2]\n",
    "\n",
    "# Finally, let's show the contents of p\n",
    "\n",
    "p"
   ]
  },
  {
   "cell_type": "markdown",
   "metadata": {},
   "source": [
    "You can now reference the fields of that data structure more comfortably:"
   ]
  },
  {
   "cell_type": "code",
   "execution_count": null,
   "metadata": {},
   "outputs": [],
   "source": [
    "print(p[0][\"lastname\"])\n",
    "print(p[1][\"age\"])"
   ]
  },
  {
   "cell_type": "markdown",
   "metadata": {},
   "source": [
    "---\n",
    "## <span style=\"color:#FF5D02;\">Assignment: Data structures</span>\n",
    "Write a program that, starting from the last data structure \"p\", lists all names in the form \"first-name last-name\"."
   ]
  },
  {
   "cell_type": "code",
   "execution_count": null,
   "metadata": {},
   "outputs": [],
   "source": []
  },
  {
   "cell_type": "markdown",
   "metadata": {},
   "source": [
    "**Hints**"
   ]
  },
  {
   "cell_type": "markdown",
   "metadata": {
    "jupyter": {
     "source_hidden": true
    },
    "tags": []
   },
   "source": [
    "First try to show firstname lastname of the first record. Then use a loop to go through all the records"
   ]
  },
  {
   "cell_type": "code",
   "execution_count": null,
   "metadata": {
    "jupyter": {
     "source_hidden": true
    },
    "tags": []
   },
   "outputs": [],
   "source": [
    "# Solution\n",
    "\n",
    "for i in (0,1):\n",
    "    # for each iteration, variable i contains the number of that iteration\n",
    "    print(p[i][\"firstname\"], p[i][\"lastname\"])"
   ]
  },
  {
   "cell_type": "markdown",
   "metadata": {},
   "source": [
    "---"
   ]
  },
  {
   "cell_type": "markdown",
   "metadata": {},
   "source": [
    "## 6. Working with packages <a id=\"kapitel6\"/>"
   ]
  },
  {
   "cell_type": "markdown",
   "metadata": {},
   "source": [
    "The Python language is modular - the core is limited to the most important commands and functions. A large part of the functionality is outsourced to so-called packages (also known as modules, libraries, ...). Python packages can be installed through package managers, which in the simplest case is the Python Package Installer `pip`. You can search for packages in the [Python Package Index PyPI](https://pypi.org).\n",
    "\n",
    "**Example**: the random number generator is contained in the package `random`. Using this package with the `import` command provides us with some new commands:"
   ]
  },
  {
   "cell_type": "code",
   "execution_count": null,
   "metadata": {},
   "outputs": [],
   "source": [
    "import random\n",
    "\n",
    "# Should I stay or should I go?\n",
    "\n",
    "options = [\"stay\", \"go\"]\n",
    "\n",
    "random.choice (options) # Each time you execute this cell, one of the options will be picked randomly"
   ]
  },
  {
   "cell_type": "markdown",
   "metadata": {},
   "source": [
    "Using the documentation [here](https://docs.python.org/3/library/random.html), we can figure out, that \n",
    "- random.randint(a, b) gives us a random integer number between a and b,\n",
    "- random.uniform(a, b) gives us a random floating point number between a and b\n",
    "\n",
    "## Putting it all together\n",
    "\n",
    "To repeat all previous learnings and using the random package, we can now generate a list of random imaginary people.  \n",
    "See if you can read below code and understand what it does!"
   ]
  },
  {
   "cell_type": "code",
   "execution_count": null,
   "metadata": {},
   "outputs": [],
   "source": [
    "# Let's generate some random people names for our list\n",
    "\n",
    "import random\n",
    "\n",
    "lastnames = [\"Hughes\", \"Wakeman\", \"Venga\", \"Young\", \"Dobbson\"]\n",
    "firstnames_m = [\"Matthew\", \"Conrad\", \"Thomas\", \"John\", \"Zak\"]       # male first names\n",
    "firstnames_f = [\"Yasmin\", \"Melissa\", \"Sally\", \"Diane\", \"Chelsea\"]   # female first names\n",
    "\n",
    "genders = [\"m\", \"f\"]\n",
    "\n",
    "height_f_min = 1.55   # minimal height of gender \"female\"\n",
    "height_f_max = 1.75   # maximal height of gender \"female\"\n",
    "\n",
    "age_min = 18\n",
    "age_max = 95\n",
    "\n",
    "# generate 10 random records\n",
    "\n",
    "p = [] # start with an empty list\n",
    "\n",
    "for i in range(0,10): # iterate though 0..9\n",
    "\n",
    "    rand_lastname = random.choice(lastnames)    # pick one of the lastnames\n",
    "    rand_gender = random.choice(genders)        # pick one of the genders\n",
    "    rand_age = random.randint(age_min, age_max) # pick a random age between age_min and age_max\n",
    "    rand_height = random.uniform(height_f_min, height_f_max) # pick a random floating point number between min and max\n",
    "\n",
    "    # depending of the gender, pick a random name from one of the first name lists\n",
    "    \n",
    "    if (rand_gender == \"m\"):\n",
    "        rand_firstname = random.choice(firstnames_m)\n",
    "        rand_height = rand_height * 1.15  # males are 15% taller on average\n",
    "        \n",
    "    if (rand_gender == \"f\"):\n",
    "        rand_firstname = random.choice(firstnames_f)\n",
    "            \n",
    "    p.append({\n",
    "        \"lastname\":   rand_lastname, \n",
    "        \"firstname\":  rand_firstname,\n",
    "        \"gender\":     rand_gender,\n",
    "        \"age\":        rand_age,\n",
    "        \"height\":     round(rand_height, 2)   # round the height to 2 decimal digits, before adding to the p list\n",
    "        })"
   ]
  },
  {
   "cell_type": "markdown",
   "metadata": {},
   "source": [
    "Now, let's have a look at the result :-)"
   ]
  },
  {
   "cell_type": "code",
   "execution_count": null,
   "metadata": {},
   "outputs": [],
   "source": [
    "p"
   ]
  },
  {
   "cell_type": "markdown",
   "metadata": {},
   "source": [
    "---\n",
    "## <span style=\"color:#FF5D02;\">Assignment: Random Pets</span>\n",
    "It is important to get a somehow intuitive understanding of the control flow and the list/dictionary data structures.  \n",
    "To practice, try to come up with your own program, that generates a dataset of 10 random pets. Each record of a pet should include:\n",
    "- Species (dog, cat, hamster)\n",
    "- A name that is typical for the species\n",
    "- A weight (min/max) that is typical for each kind\n",
    "- Optional, if you like: Faviorite pet food for the kind (meat, fish, muesli pellets, carrots, corn, ...)"
   ]
  },
  {
   "cell_type": "code",
   "execution_count": null,
   "metadata": {},
   "outputs": [],
   "source": []
  },
  {
   "cell_type": "markdown",
   "metadata": {},
   "source": [
    "**Hints**"
   ]
  },
  {
   "cell_type": "markdown",
   "metadata": {
    "jupyter": {
     "source_hidden": true
    },
    "tags": []
   },
   "source": [
    "If you get stuck, try to build a dictionary with one pet and just one or two first. Then expand to the full attribute set and the loop to generate multiple records."
   ]
  },
  {
   "cell_type": "markdown",
   "metadata": {},
   "source": [
    "# Outlook\n",
    "Many packages in the python package index are quite powerful. The whole Jupyter Lab environment is a package for example. \n",
    "\n",
    "To showcase to what degree packages can simplify your code, let's use `pandas` (package for data analysis and manipulation) to quickly import and display some data from the web:"
   ]
  },
  {
   "cell_type": "markdown",
   "metadata": {},
   "source": [
    "The pandas package contains a function to extract tabular data from web pages - a process that usually involves many steps: Contacting web servers, receiving HTML data, finding the table, interpreting HTML table code, and finally extracting the data.\n",
    "\n",
    "The following code reads world country data from Wikipedia ([link](http://en.wikipedia.org/wiki/List_of_countries_by_population_(United_Nations)))."
   ]
  },
  {
   "cell_type": "code",
   "execution_count": null,
   "metadata": {},
   "outputs": [],
   "source": [
    "import pandas # import package\n",
    "\n",
    "link = \"http://en.wikipedia.org/wiki/List_of_countries_by_population_(United_Nations)\"\n",
    "data = pandas.read_html(link)\n",
    "\n",
    "data[0] # show first table (index 0 in the list of retrieved tables)"
   ]
  },
  {
   "cell_type": "markdown",
   "metadata": {},
   "source": [
    "You may now continue to work on the third notebook for this task \"3 - Pandas\"."
   ]
  }
 ],
 "metadata": {
  "kernelspec": {
   "display_name": "Python 3 (ipykernel)",
   "language": "python",
   "name": "python3"
  },
  "language_info": {
   "codemirror_mode": {
    "name": "ipython",
    "version": 3
   },
   "file_extension": ".py",
   "mimetype": "text/x-python",
   "name": "python",
   "nbconvert_exporter": "python",
   "pygments_lexer": "ipython3",
   "version": "3.11.6"
  }
 },
 "nbformat": 4,
 "nbformat_minor": 4
}
